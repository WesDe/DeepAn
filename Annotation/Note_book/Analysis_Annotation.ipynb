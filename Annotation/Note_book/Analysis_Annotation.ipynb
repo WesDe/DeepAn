{
 "cells": [
  {
   "cell_type": "code",
   "execution_count": 1,
   "metadata": {},
   "outputs": [
    {
     "data": {
      "text/plain": [
       "131072"
      ]
     },
     "execution_count": 1,
     "metadata": {},
     "output_type": "execute_result"
    }
   ],
   "source": [
    "import csv\n",
    "import numpy as np \n",
    "import matplotlib.mlab as mlab \n",
    "import matplotlib.pyplot as plt\n",
    "import pandas as pd\n",
    "from collections import Counter\n",
    "from Bio.Seq import Seq\n",
    "from Bio import SeqIO\n",
    "import re\n",
    "import pandas as pd\n",
    "import collections\n",
    "from collections import defaultdict\n",
    "import os\n",
    "from operator import itemgetter\n",
    "import statistics\n",
    "%run ./Function_annotation.ipynb\n",
    "from matplotlib import rc\n",
    "import matplotlib.pyplot as plt\n",
    "csv.field_size_limit(100000000)\n",
    "\n"
   ]
  },
  {
   "cell_type": "markdown",
   "metadata": {},
   "source": [
    "### Example for NA19240 input from Chaisson et al"
   ]
  },
  {
   "cell_type": "code",
   "execution_count": 2,
   "metadata": {},
   "outputs": [],
   "source": [
    "#NA19240\n",
    "#File obtained from Extraction_illumina fold python script\n",
    "dic_all=get_dic_all(\"Chaisson_all_insertion.vcf\")\n",
    "dic_all_2=get_dic_all(\"Chaisson_insertion_only_illumina.vcf\")\n",
    "\n",
    "\n",
    "info_file=\"Seq_Chaisson_WG.psl\"\n",
    "inpt=\"Seq_Chaisson_WG.psl\"\n",
    "inpt_all=\"Chaisson_all_insertion.vcf\"\n",
    "#File obtained from TRF folder python script\n",
    "TRF_Chaisson=\"readable_format_TRF.txt\"\n",
    "\n",
    "#File obtaine from Mobile_element fold python script \n",
    "ME_Chaisson=\"ME_Chaisson\"\n",
    "\n",
    "\n",
    "#File obtained from location_repeat/insertion_in_bed.py\n",
    "LTR=\"LTR_plus_map_Chaisson.csv\"\n",
    "SegmDup=\"SegmDup_plus_map_Chaisson.csv\"\n",
    "SINE=\"SINE_plus_map_Chaisson.csv\"\n",
    "Simple=\"Simple_map_Chaisson_v2.csv\"\n",
    "Satellite=\"Satellite_plus_map_Chaisson.csv\"\n",
    "Retroposon=\"Retroposon_plus_map_Chaisson.csv\"\n",
    "DNA=\"DNA_plus_map_Chaisson.csv\"\n",
    "RNA=\"RNA_plus_map_Chaisson.csv\"\n",
    "LINE=\"LINE_plus_map_Chaisson.csv\"\n",
    "\n",
    "#File obtained from homology folder python script\n",
    "Blat_mh=\"concatenate_result_v2_blast.tsv\"\n",
    "Micro_homo=\"Microhomology.csv\"\n",
    "\n",
    "#Example of output\n",
    "otp_seed=csv.writer(open(\"Seed_All_NA19240.csv\",\"w\"),delimiter=\",\")\n",
    "OTP_all_info=csv.writer(open(\"All_info_NA19240.csv\",\"w\"),delimiter=\",\")"
   ]
  },
  {
   "cell_type": "markdown",
   "metadata": {},
   "source": [
    "### Example for HG002 input from Zook et al"
   ]
  },
  {
   "cell_type": "code",
   "execution_count": 68,
   "metadata": {},
   "outputs": [],
   "source": [
    "dic_all=get_dic_all_Zook(\"INS_HG002.vcf\")\n",
    "dic_all_2=get_dic_all_Zook(\"Ill_HG002_ins.vcf\")\n",
    "\n",
    "info_file=\"HG002_INS_HG38.psl\"\n",
    "inpt=\"HG002_INS_HG38.psl\"\n",
    "inpt_all=\"INS_HG002.vcf\"\n",
    "\n",
    "TRF_Chaisson=\"readable_format_TRF.txt\"\n",
    "ME_Chaisson=\"HG002_ME\"\n",
    "\n",
    "\n",
    "LTR=\"LTR_plus_map_HG002.csv\"\n",
    "SegmDup=\"Segm_plus_map_HG002.csv\"\n",
    "SINE=\"SINE_plus_map_HG002.csv\"\n",
    "Simple=\"Simple_plus_map_HG002.csv\"\n",
    "Satellite=\"Satellite_plus_map_HG002.csv\"\n",
    "Retroposon=\"Retro_plus_map_HG002.csv\"\n",
    "DNA=\"DNA_plus_map_HG002.csv\"\n",
    "RNA=\"RNA_plus_map_HG002.csv\"\n",
    "LINE=\"LINE_plus_map_HG002.csv\"\n",
    "\n",
    "\n",
    "\n",
    "\n",
    "Blat_mh=\"concatenate_result_v2_blast.tsv\"\n",
    "Micro_homo=\"Microhomology.csv\"\n",
    "\n",
    "OTP_all_info=csv.writer(open(\"All_info_HG002.csv\",\"w\"),delimiter=\",\")\n",
    "otp_seed=csv.writer(open(\"Seed_All_Zook.csv\",\"w\"),delimiter=\",\")"
   ]
  },
  {
   "cell_type": "code",
   "execution_count": 6,
   "metadata": {},
   "outputs": [],
   "source": [
    "dic_occu_8=get_list_occu(info_file,0.8,dic_all)\n",
    "dic_occu_2=get_list_occu(info_file,0.2,dic_all)\n"
   ]
  },
  {
   "cell_type": "markdown",
   "metadata": {},
   "source": [
    "###  Duplication\n"
   ]
  },
  {
   "cell_type": "code",
   "execution_count": 7,
   "metadata": {
    "scrolled": true
   },
   "outputs": [
    {
     "name": "stdout",
     "output_type": "stream",
     "text": [
      "3077 4863 0 10491\n",
      "3612 6393 0 13395\n"
     ]
    }
   ],
   "source": [
    "dup_8,TD_8,Segm_Dup_8,not_valid_8,dic_ali_comp_8=check_duplication(inpt,0.8,dic_occu_8)\n",
    "dup_2,TD_2,Segm_Dup_2,not_valid_2,dic_ali_comp_2=check_duplication(inpt,0.2,dic_occu_2)\n"
   ]
  },
  {
   "cell_type": "code",
   "execution_count": 8,
   "metadata": {},
   "outputs": [],
   "source": [
    "compo=get_dic_composite(dic_ali_comp_8)"
   ]
  },
  {
   "cell_type": "markdown",
   "metadata": {},
   "source": [
    "### TRF\n"
   ]
  },
  {
   "cell_type": "code",
   "execution_count": 9,
   "metadata": {},
   "outputs": [
    {
     "name": "stdout",
     "output_type": "stream",
     "text": [
      "8871\n",
      "9954\n"
     ]
    }
   ],
   "source": [
    "TRF_8,TRF_8_seed=make_db(TRF_Chaisson,0.80)\n",
    "TRF_2,TRF_2_seed=make_db(TRF_Chaisson,0.20)\n"
   ]
  },
  {
   "cell_type": "markdown",
   "metadata": {},
   "source": [
    "### Mobile Element"
   ]
  },
  {
   "cell_type": "code",
   "execution_count": 10,
   "metadata": {},
   "outputs": [
    {
     "name": "stdout",
     "output_type": "stream",
     "text": [
      "2545\n",
      "3943\n"
     ]
    }
   ],
   "source": [
    "ME_8=make_db_me(ME_Chaisson,0.80,\" \")\n",
    "ME_2=make_db_me(ME_Chaisson,0.20,\" \")\n"
   ]
  },
  {
   "cell_type": "markdown",
   "metadata": {},
   "source": [
    "### Annotation\n",
    "Annotation de novo with 80% threshold corresponds to de novo insertion that carry at least 20 % of unique sequence"
   ]
  },
  {
   "cell_type": "code",
   "execution_count": 12,
   "metadata": {},
   "outputs": [
    {
     "name": "stdout",
     "output_type": "stream",
     "text": [
      "0\n",
      "Order  novo :  2325 novo 2 : 0 TD :  1000 TR :  8735 ME :  2473 DUP :  773 SEGM :  0\n",
      " TOTAL order :  15306\n",
      "0\n",
      "Order  novo :  869 novo 2 : 0 TD :  1028 TR :  9213 ME :  3823 DUP :  689 SEGM :  0\n",
      " TOTAL order :  15622\n"
     ]
    }
   ],
   "source": [
    "%run ./v2_all_function.ipynb\n",
    "td_8,me_8,tr_8,DUP_8,novo_8,td_o_8,me_o_8,tr_o_8,dup_o_8,Segm_o_8=get_list(dic_all,TD_8,TRF_8,ME_8,dup_8,Segm_Dup_8,not_valid_8,0.8,compo)\n",
    "td_2,me_2,tr_2,DUP_2,novo_2,td_o_2,me_o_2,tr_o_2,dup_o_2,Segm_o_2=get_list(dic_all,TD_2,TRF_2,ME_2,dup_2,Segm_Dup_2,not_valid_2,0.2,compo)\n"
   ]
  },
  {
   "cell_type": "markdown",
   "metadata": {},
   "source": [
    "### Detection of unassigned insertion"
   ]
  },
  {
   "cell_type": "code",
   "execution_count": 14,
   "metadata": {},
   "outputs": [
    {
     "name": "stdout",
     "output_type": "stream",
     "text": [
      "1843\n",
      "45\n"
     ]
    }
   ],
   "source": [
    "complex_8_o=get_complex(dic_all,td_o_8,tr_o_8,me_o_8,dup_o_8,novo_2,Segm_o_8)\n",
    "complex_2_o=get_complex(dic_all,td_o_2,tr_o_2,me_o_2,dup_o_2,novo_8,Segm_o_2)\n"
   ]
  },
  {
   "cell_type": "markdown",
   "metadata": {},
   "source": [
    "### Identification of unassigned insertion to potential annotation at lower threshold"
   ]
  },
  {
   "cell_type": "code",
   "execution_count": 15,
   "metadata": {},
   "outputs": [
    {
     "name": "stdout",
     "output_type": "stream",
     "text": [
      "0.5154639175257731 0.0 0.22843190450352685 0.15355398806294085 0.0705371676614216 0.0\n",
      "0.9679869777536625\n"
     ]
    }
   ],
   "source": [
    "count_me=0\n",
    "count_novo=0\n",
    "count_tr=0\n",
    "count_td=0\n",
    "count_dp=0\n",
    "count_se=0\n",
    "def count_unassigned(complex_8_o,liste) :\n",
    "    count=0\n",
    "    for elt in complex_8_o :\n",
    "        if elt in liste :\n",
    "            count+=1\n",
    "    return count\n",
    "count_me=count_unassigned(complex_8_o,me_o_2)\n",
    "count_tr=count_unassigned(complex_8_o,tr_o_2)\n",
    "count_td=count_unassigned(complex_8_o,td_o_2)\n",
    "count_dp=count_unassigned(complex_8_o,dup_o_2)\n",
    "count_se=count_unassigned(complex_8_o,Segm_o_2)\n",
    "print(\"ME :\",count_me/len(complex_8_o),\"Novel :\",count_novo/len(complex_8_o), \"TR :\",count_tr/len(complex_8_o),\" TD :\",count_td/len(complex_8_o,),\" DUP :\",count_dp/len(complex_8_o))#,count_se/len(complex_8_o))\n",
    "\n",
    "print(\"Percent unassigned annotated at 20% threshold :\",(count_me+count_tr+count_td+count_dp+count_se)/len(complex_8_o))"
   ]
  },
  {
   "cell_type": "markdown",
   "metadata": {},
   "source": [
    "### Seed size and repeat count for visualization with R\n",
    "First value : seed size, second value : repeat count"
   ]
  },
  {
   "cell_type": "code",
   "execution_count": 16,
   "metadata": {},
   "outputs": [],
   "source": [
    "liste_ill_seed=[]\n",
    "liste_not_ill_seed=[]\n",
    "\n",
    "for elt in tr_o_8 :\n",
    "    if elt in dic_all_2 :\n",
    "        liste_ill_seed.append(TRF_8_seed[elt])\n",
    "    if elt in dic_all :\n",
    "        liste_not_ill_seed.append(TRF_8_seed[elt])\n",
    "for elt in liste_ill_seed :\n",
    "    liste=[int(round(elt[0])),int(round(elt[1])),\"Short reads technology\"]\n",
    "    otp_seed.writerow(liste)\n",
    "for elt in liste_not_ill_seed :\n",
    "    liste=[int(round(elt[0])),int(round(elt[1])),\"Other technologies\"]\n",
    "    otp_seed.writerow(liste)"
   ]
  },
  {
   "cell_type": "markdown",
   "metadata": {},
   "source": [
    "### Check Microhomologies"
   ]
  },
  {
   "cell_type": "code",
   "execution_count": 17,
   "metadata": {},
   "outputs": [],
   "source": [
    "%run ./v2_all_function.ipynb\n",
    "\n",
    "d_test=defaultdict(list)   \n",
    "d_test=get_mh_blat(Blat_mh)\n",
    "clean_dictionary=defaultdict(list)\n",
    "clean_dictionary=clean_dic(d_test)\n",
    "\n",
    "dic_size_mh={}\n",
    "dic_size_mh=concatenate_mh(clean_dictionary)\n",
    "dic_small_mh=get_small_mh(Micro_homo)"
   ]
  },
  {
   "cell_type": "markdown",
   "metadata": {},
   "source": [
    "### Associate each insertion to it annotation"
   ]
  },
  {
   "cell_type": "code",
   "execution_count": 18,
   "metadata": {},
   "outputs": [],
   "source": [
    "dic_all_info=defaultdict(list)\n",
    "\n",
    "dic_all_info=fill_type(dic_small_mh,dic_size_mh,dic_all,dic_all_info)\n",
    "\n",
    "\n",
    "dic_all_info=Assign_type(dic_all_info,me_o_8,\"Mobile element\")\n",
    "dic_all_info=Assign_type(dic_all_info,tr_o_8,\"Tandem repeat\")\n",
    "dic_all_info=Assign_type(dic_all_info,td_o_8,\"Tandem duplication\")\n",
    "dic_all_info=Assign_type(dic_all_info,dup_o_8,\"Dispersed duplication\")\n",
    "dic_all_info=Assign_type(dic_all_info,novo_2,\"Novel sequence\")\n",
    "dic_all_info=Assign_type(dic_all_info,Segm_o_8,\"Segmental duplication\")\n",
    "dic_all_info=Assign_type(dic_all_info,complex_8_o,\"Unassigned\")\n",
    "\n",
    "\n",
    "to_remove=[]\n",
    "for elt in dic_all_info :\n",
    "    if len(dic_all_info[elt])<2 :\n",
    "        to_remove.append(elt)\n",
    "for a in to_remove :\n",
    "    del dic_all_info[a]"
   ]
  },
  {
   "cell_type": "markdown",
   "metadata": {},
   "source": [
    "### Insertion location analysis"
   ]
  },
  {
   "cell_type": "code",
   "execution_count": 19,
   "metadata": {},
   "outputs": [],
   "source": [
    "liste_all=get_liste_insertion(inpt_all)"
   ]
  },
  {
   "cell_type": "code",
   "execution_count": 21,
   "metadata": {},
   "outputs": [
    {
     "name": "stdout",
     "output_type": "stream",
     "text": [
      "3584\n"
     ]
    }
   ],
   "source": [
    "dic_other_RM=defaultdict(list)\n",
    "\n",
    "\n",
    "dic_other_RM=get_info(liste_all,LTR,dic_other_RM)\n",
    "dic_other_RM=get_info(liste_all,SegmDup,dic_other_RM)\n",
    "dic_other_RM=get_info(liste_all,SINE,dic_other_RM)\n",
    "dic_other_RM=get_info(liste_all,Simple,dic_other_RM)\n",
    "dic_other_RM=get_info(liste_all,Satellite,dic_other_RM)\n",
    "dic_other_RM=get_info(liste_all,Retroposon,dic_other_RM)\n",
    "dic_other_RM=get_info(liste_all,DNA,dic_other_RM)\n",
    "dic_other_RM=get_info(liste_all,RNA,dic_other_RM)\n",
    "dic_other_RM=get_info(liste_all,LINE,dic_other_RM)\n",
    "\n",
    "dic_other_RM=get_other(liste_all,dic_other_RM,\"Non repeat\")"
   ]
  },
  {
   "cell_type": "code",
   "execution_count": 23,
   "metadata": {},
   "outputs": [],
   "source": [
    "dicon_other=concatenate_dic(dic_other_RM,dic_all_info)"
   ]
  },
  {
   "cell_type": "markdown",
   "metadata": {},
   "source": [
    "### Associate technology discovery"
   ]
  },
  {
   "cell_type": "code",
   "execution_count": 24,
   "metadata": {},
   "outputs": [],
   "source": [
    "dicon_other=Assign_techno(dicon_other,dic_all_2,\"Short reads technology\", \"Other technologies\")"
   ]
  },
  {
   "cell_type": "markdown",
   "metadata": {},
   "source": [
    "### Writing information in standard csv format for R analysis\n",
    "This code below required to be run two times, some errors occured involving an absence of writing some insertion\n",
    "Require to change the output file name according to the name previously described at the head of this script"
   ]
  },
  {
   "cell_type": "code",
   "execution_count": 26,
   "metadata": {},
   "outputs": [
    {
     "name": "stdout",
     "output_type": "stream",
     "text": [
      "done 15693\n"
     ]
    }
   ],
   "source": [
    "OTP_all_info=csv.writer(open(\"All_info_NA19240.csv\",\"w\"),delimiter=\",\")\n",
    "header=[\"chrom\",\"position\",\"size\",\"Repeat_loc\",\"mh_size\",\"type\",\"techno\"]\n",
    "OTP_all_info.writerow(header)\n",
    "count=0\n",
    "for elt in dicon_other :\n",
    "    liste=dicon_other[elt]\n",
    "    OTP_all_info.writerow(liste)\n",
    "    count+=1\n",
    "print(\"done\",count)"
   ]
  }
 ],
 "metadata": {
  "kernelspec": {
   "display_name": "Python 3",
   "language": "python",
   "name": "python3"
  },
  "language_info": {
   "codemirror_mode": {
    "name": "ipython",
    "version": 3
   },
   "file_extension": ".py",
   "mimetype": "text/x-python",
   "name": "python",
   "nbconvert_exporter": "python",
   "pygments_lexer": "ipython3",
   "version": "3.6.9"
  }
 },
 "nbformat": 4,
 "nbformat_minor": 2
}
